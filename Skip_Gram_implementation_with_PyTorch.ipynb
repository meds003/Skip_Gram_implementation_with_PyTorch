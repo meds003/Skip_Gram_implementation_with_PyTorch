{
  "cells": [
    {
      "cell_type": "code",
      "execution_count": 3,
      "metadata": {
        "colab": {
          "base_uri": "https://localhost:8080/"
        },
        "id": "4ZkmyN4OOw73",
        "outputId": "95687460-9e5f-47fb-cfcf-b68f40573681"
      },
      "outputs": [
        {
          "name": "stderr",
          "output_type": "stream",
          "text": [
            "[nltk_data] Downloading package stopwords to\n",
            "[nltk_data]     C:\\Users\\mohamedamineayadi\\AppData\\Roaming\\nltk_data..\n",
            "[nltk_data]     .\n",
            "[nltk_data]   Package stopwords is already up-to-date!\n",
            "[nltk_data] Downloading package punkt to\n",
            "[nltk_data]     C:\\Users\\mohamedamineayadi\\AppData\\Roaming\\nltk_data..\n",
            "[nltk_data]     .\n",
            "[nltk_data]   Package punkt is already up-to-date!\n"
          ]
        },
        {
          "data": {
            "text/plain": [
              "True"
            ]
          },
          "execution_count": 3,
          "metadata": {},
          "output_type": "execute_result"
        }
      ],
      "source": [
        "import torch\n",
        "torch.manual_seed(10)\n",
        "from torch.autograd import Variable\n",
        "from torch.utils.data import DataLoader\n",
        "import pandas as pd\n",
        "import numpy as np\n",
        "from sklearn import decomposition\n",
        "from pathlib import Path\n",
        "import warnings\n",
        "warnings.filterwarnings(\"ignore\")\n",
        "import seaborn as sns\n",
        "from matplotlib import pyplot as plt\n",
        "plt.rcParams['figure.figsize'] = (10,8)\n",
        "import nltk\n",
        "from nltk.corpus import stopwords\n",
        "nltk.download('stopwords')\n",
        "nltk.download('punkt')"
      ]
    },
    {
      "cell_type": "code",
      "execution_count": 5,
      "metadata": {
        "id": "4I8wJ1xPO6Sy"
      },
      "outputs": [],
      "source": [
        "corpus = [\n",
        "    'drink milk',\n",
        "    'drink cold water',\n",
        "    'drink cold cola',\n",
        "    'drink juice',\n",
        "    'drink cola',\n",
        "    'eat bacon',\n",
        "    'eat mango',\n",
        "    'eat cherry',\n",
        "    'eat apple',\n",
        "    'juice with sugar',\n",
        "    'cola with sugar',\n",
        "    'mango is fruit',\n",
        "    'apple is fruit',\n",
        "    'cherry is fruit',\n",
        "    'Berlin is Germany',\n",
        "    'Boston is USA',\n",
        "    'Mercedes from Germany',\n",
        "    'Mercedes is a car',\n",
        "    'Ford from USA',\n",
        "    'Ford is a car'\n",
        "]"
      ]
    },
    {
      "cell_type": "code",
      "execution_count": 6,
      "metadata": {
        "id": "xBNOrSKFPAvK"
      },
      "outputs": [],
      "source": [
        "def create_vocabulary(corpus):\n",
        "    '''Creates a dictionary with all unique words in corpus with id'''\n",
        "    vocabulary = {}\n",
        "    i = 0\n",
        "    for s in corpus:\n",
        "        for w in s.split():\n",
        "            if w not in vocabulary:\n",
        "                vocabulary[w] = i\n",
        "                i+=1\n",
        "    return vocabulary\n",
        "\n",
        "def prepare_set(corpus, n_gram = 1):\n",
        "    '''Creates a dataset with Input column and Outputs columns for neighboring words. \n",
        "       The number of neighbors = n_gram*2'''\n",
        "    columns = ['Input'] + [f'Output{i+1}' for i in range(n_gram*2)]\n",
        "    result = pd.DataFrame(columns = columns)\n",
        "    for sentence in corpus:\n",
        "        for i,w in enumerate(sentence.split()):\n",
        "            inp = [w]\n",
        "            out = []\n",
        "            for n in range(1,n_gram+1):\n",
        "                # look back\n",
        "                if (i-n)>=0:\n",
        "                    out.append(sentence.split()[i-n])\n",
        "                else:\n",
        "                    out.append('<padding>')\n",
        "                \n",
        "                # look forward\n",
        "                if (i+n)<len(sentence.split()):\n",
        "                    out.append(sentence.split()[i+n])\n",
        "                else:\n",
        "                    out.append('<padding>')\n",
        "            row = pd.DataFrame([inp+out], columns = columns)\n",
        "            result = result.append(row, ignore_index = True)\n",
        "    return result\n",
        "\n",
        "def prepare_set_ravel(corpus, n_gram = 1):\n",
        "    '''Creates a dataset with Input column and Output column for neighboring words. \n",
        "       The number of neighbors = n_gram*2'''\n",
        "    columns = ['Input', 'Output']\n",
        "    result = pd.DataFrame(columns = columns)\n",
        "    for sentence in corpus:\n",
        "        for i,w in enumerate(sentence.split()):\n",
        "            inp = w\n",
        "            for n in range(1,n_gram+1):\n",
        "                # look back\n",
        "                if (i-n)>=0:\n",
        "                    out = sentence.split()[i-n]\n",
        "                    row = pd.DataFrame([[inp,out]], columns = columns)\n",
        "                    result = result.append(row, ignore_index = True)\n",
        "                \n",
        "                # look forward\n",
        "                if (i+n)<len(sentence.split()):\n",
        "                    out = sentence.split()[i+n]\n",
        "                    row = pd.DataFrame([[inp,out]], columns = columns)\n",
        "                    result = result.append(row, ignore_index = True)\n",
        "    return result"
      ]
    },
    {
      "cell_type": "code",
      "execution_count": 7,
      "metadata": {
        "colab": {
          "base_uri": "https://localhost:8080/"
        },
        "id": "-1K8npsuPC5r",
        "outputId": "d0991be9-f48f-4882-adca-4fca4058861c"
      },
      "outputs": [
        {
          "data": {
            "text/plain": [
              "['drink milk',\n",
              " 'drink cold water',\n",
              " 'drink cold cola',\n",
              " 'drink juice',\n",
              " 'drink cola',\n",
              " 'eat bacon',\n",
              " 'eat mango',\n",
              " 'eat cherry',\n",
              " 'eat apple',\n",
              " 'juice sugar',\n",
              " 'cola sugar',\n",
              " 'mango fruit',\n",
              " 'apple fruit',\n",
              " 'cherry fruit',\n",
              " 'berlin germany',\n",
              " 'boston usa',\n",
              " 'mercedes germany',\n",
              " 'mercedes car',\n",
              " 'ford usa',\n",
              " 'ford car']"
            ]
          },
          "execution_count": 7,
          "metadata": {},
          "output_type": "execute_result"
        }
      ],
      "source": [
        "stop_words = set(stopwords.words('english'))\n",
        "\n",
        "def preprocess(corpus):\n",
        "    result = []\n",
        "    for i in corpus:\n",
        "        out = nltk.word_tokenize(i)\n",
        "        out = [x.lower() for x in out]\n",
        "        out = [x for x in out if x not in stop_words]\n",
        "        result.append(\" \". join(out))\n",
        "    return result\n",
        "\n",
        "corpus = preprocess(corpus)\n",
        "corpus"
      ]
    },
    {
      "cell_type": "code",
      "execution_count": 8,
      "metadata": {
        "colab": {
          "base_uri": "https://localhost:8080/"
        },
        "id": "M01G1Z1lPzM6",
        "outputId": "bea1c6ec-9e6e-46d0-ea56-dc0f79bca5cc"
      },
      "outputs": [
        {
          "data": {
            "text/plain": [
              "{'drink': 0,\n",
              " 'milk': 1,\n",
              " 'cold': 2,\n",
              " 'water': 3,\n",
              " 'cola': 4,\n",
              " 'juice': 5,\n",
              " 'eat': 6,\n",
              " 'bacon': 7,\n",
              " 'mango': 8,\n",
              " 'cherry': 9,\n",
              " 'apple': 10,\n",
              " 'sugar': 11,\n",
              " 'fruit': 12,\n",
              " 'berlin': 13,\n",
              " 'germany': 14,\n",
              " 'boston': 15,\n",
              " 'usa': 16,\n",
              " 'mercedes': 17,\n",
              " 'car': 18,\n",
              " 'ford': 19}"
            ]
          },
          "execution_count": 8,
          "metadata": {},
          "output_type": "execute_result"
        }
      ],
      "source": [
        "vocabulary = create_vocabulary(corpus)\n",
        "vocabulary"
      ]
    },
    {
      "cell_type": "code",
      "execution_count": 9,
      "metadata": {
        "colab": {
          "base_uri": "https://localhost:8080/",
          "height": 206
        },
        "id": "xWt5NBJrP1-X",
        "outputId": "5bd23fd7-41e7-4a8e-8325-7dd9cfb4d829"
      },
      "outputs": [
        {
          "data": {
            "text/html": [
              "<div>\n",
              "<style scoped>\n",
              "    .dataframe tbody tr th:only-of-type {\n",
              "        vertical-align: middle;\n",
              "    }\n",
              "\n",
              "    .dataframe tbody tr th {\n",
              "        vertical-align: top;\n",
              "    }\n",
              "\n",
              "    .dataframe thead th {\n",
              "        text-align: right;\n",
              "    }\n",
              "</style>\n",
              "<table border=\"1\" class=\"dataframe\">\n",
              "  <thead>\n",
              "    <tr style=\"text-align: right;\">\n",
              "      <th></th>\n",
              "      <th>Input</th>\n",
              "      <th>Output1</th>\n",
              "      <th>Output2</th>\n",
              "      <th>Output3</th>\n",
              "      <th>Output4</th>\n",
              "    </tr>\n",
              "  </thead>\n",
              "  <tbody>\n",
              "    <tr>\n",
              "      <th>0</th>\n",
              "      <td>drink</td>\n",
              "      <td>&lt;padding&gt;</td>\n",
              "      <td>milk</td>\n",
              "      <td>&lt;padding&gt;</td>\n",
              "      <td>&lt;padding&gt;</td>\n",
              "    </tr>\n",
              "    <tr>\n",
              "      <th>1</th>\n",
              "      <td>milk</td>\n",
              "      <td>drink</td>\n",
              "      <td>&lt;padding&gt;</td>\n",
              "      <td>&lt;padding&gt;</td>\n",
              "      <td>&lt;padding&gt;</td>\n",
              "    </tr>\n",
              "    <tr>\n",
              "      <th>2</th>\n",
              "      <td>drink</td>\n",
              "      <td>&lt;padding&gt;</td>\n",
              "      <td>cold</td>\n",
              "      <td>&lt;padding&gt;</td>\n",
              "      <td>water</td>\n",
              "    </tr>\n",
              "    <tr>\n",
              "      <th>3</th>\n",
              "      <td>cold</td>\n",
              "      <td>drink</td>\n",
              "      <td>water</td>\n",
              "      <td>&lt;padding&gt;</td>\n",
              "      <td>&lt;padding&gt;</td>\n",
              "    </tr>\n",
              "    <tr>\n",
              "      <th>4</th>\n",
              "      <td>water</td>\n",
              "      <td>cold</td>\n",
              "      <td>&lt;padding&gt;</td>\n",
              "      <td>drink</td>\n",
              "      <td>&lt;padding&gt;</td>\n",
              "    </tr>\n",
              "  </tbody>\n",
              "</table>\n",
              "</div>"
            ],
            "text/plain": [
              "   Input    Output1    Output2    Output3    Output4\n",
              "0  drink  <padding>       milk  <padding>  <padding>\n",
              "1   milk      drink  <padding>  <padding>  <padding>\n",
              "2  drink  <padding>       cold  <padding>      water\n",
              "3   cold      drink      water  <padding>  <padding>\n",
              "4  water       cold  <padding>      drink  <padding>"
            ]
          },
          "execution_count": 9,
          "metadata": {},
          "output_type": "execute_result"
        }
      ],
      "source": [
        "train_emb = prepare_set(corpus, n_gram = 2)\n",
        "train_emb.head()"
      ]
    },
    {
      "cell_type": "code",
      "execution_count": 10,
      "metadata": {
        "colab": {
          "base_uri": "https://localhost:8080/",
          "height": 206
        },
        "id": "An7NeLIbQAcZ",
        "outputId": "a9cb5a85-7f47-40eb-ec62-a60782d54123"
      },
      "outputs": [
        {
          "data": {
            "text/html": [
              "<div>\n",
              "<style scoped>\n",
              "    .dataframe tbody tr th:only-of-type {\n",
              "        vertical-align: middle;\n",
              "    }\n",
              "\n",
              "    .dataframe tbody tr th {\n",
              "        vertical-align: top;\n",
              "    }\n",
              "\n",
              "    .dataframe thead th {\n",
              "        text-align: right;\n",
              "    }\n",
              "</style>\n",
              "<table border=\"1\" class=\"dataframe\">\n",
              "  <thead>\n",
              "    <tr style=\"text-align: right;\">\n",
              "      <th></th>\n",
              "      <th>Input</th>\n",
              "      <th>Output</th>\n",
              "    </tr>\n",
              "  </thead>\n",
              "  <tbody>\n",
              "    <tr>\n",
              "      <th>0</th>\n",
              "      <td>drink</td>\n",
              "      <td>milk</td>\n",
              "    </tr>\n",
              "    <tr>\n",
              "      <th>1</th>\n",
              "      <td>milk</td>\n",
              "      <td>drink</td>\n",
              "    </tr>\n",
              "    <tr>\n",
              "      <th>2</th>\n",
              "      <td>drink</td>\n",
              "      <td>cold</td>\n",
              "    </tr>\n",
              "    <tr>\n",
              "      <th>3</th>\n",
              "      <td>drink</td>\n",
              "      <td>water</td>\n",
              "    </tr>\n",
              "    <tr>\n",
              "      <th>4</th>\n",
              "      <td>cold</td>\n",
              "      <td>drink</td>\n",
              "    </tr>\n",
              "  </tbody>\n",
              "</table>\n",
              "</div>"
            ],
            "text/plain": [
              "   Input Output\n",
              "0  drink   milk\n",
              "1   milk  drink\n",
              "2  drink   cold\n",
              "3  drink  water\n",
              "4   cold  drink"
            ]
          },
          "execution_count": 10,
          "metadata": {},
          "output_type": "execute_result"
        }
      ],
      "source": [
        "train_emb = prepare_set_ravel(corpus, n_gram = 2)\n",
        "train_emb.head()"
      ]
    },
    {
      "cell_type": "code",
      "execution_count": 11,
      "metadata": {
        "colab": {
          "base_uri": "https://localhost:8080/",
          "height": 206
        },
        "id": "Y65rk9lsQFKG",
        "outputId": "d9b4b537-ab01-4fc9-d3f6-094b505c261a"
      },
      "outputs": [
        {
          "data": {
            "text/html": [
              "<div>\n",
              "<style scoped>\n",
              "    .dataframe tbody tr th:only-of-type {\n",
              "        vertical-align: middle;\n",
              "    }\n",
              "\n",
              "    .dataframe tbody tr th {\n",
              "        vertical-align: top;\n",
              "    }\n",
              "\n",
              "    .dataframe thead th {\n",
              "        text-align: right;\n",
              "    }\n",
              "</style>\n",
              "<table border=\"1\" class=\"dataframe\">\n",
              "  <thead>\n",
              "    <tr style=\"text-align: right;\">\n",
              "      <th></th>\n",
              "      <th>Input</th>\n",
              "      <th>Output</th>\n",
              "    </tr>\n",
              "  </thead>\n",
              "  <tbody>\n",
              "    <tr>\n",
              "      <th>0</th>\n",
              "      <td>0</td>\n",
              "      <td>1</td>\n",
              "    </tr>\n",
              "    <tr>\n",
              "      <th>1</th>\n",
              "      <td>1</td>\n",
              "      <td>0</td>\n",
              "    </tr>\n",
              "    <tr>\n",
              "      <th>2</th>\n",
              "      <td>0</td>\n",
              "      <td>2</td>\n",
              "    </tr>\n",
              "    <tr>\n",
              "      <th>3</th>\n",
              "      <td>0</td>\n",
              "      <td>3</td>\n",
              "    </tr>\n",
              "    <tr>\n",
              "      <th>4</th>\n",
              "      <td>2</td>\n",
              "      <td>0</td>\n",
              "    </tr>\n",
              "  </tbody>\n",
              "</table>\n",
              "</div>"
            ],
            "text/plain": [
              "   Input  Output\n",
              "0      0       1\n",
              "1      1       0\n",
              "2      0       2\n",
              "3      0       3\n",
              "4      2       0"
            ]
          },
          "execution_count": 11,
          "metadata": {},
          "output_type": "execute_result"
        }
      ],
      "source": [
        "train_emb.Input = train_emb.Input.map(vocabulary)\n",
        "train_emb.Output = train_emb.Output.map(vocabulary)\n",
        "train_emb.head()"
      ]
    },
    {
      "cell_type": "code",
      "execution_count": 12,
      "metadata": {
        "id": "6-LcfI5TQG8s"
      },
      "outputs": [],
      "source": [
        "vocab_size = len(vocabulary)\n",
        "\n",
        "def get_input_tensor(tensor):\n",
        "    '''Transform 1D tensor of word indexes to one-hot encoded 2D tensor'''\n",
        "    size = [*tensor.shape][0]\n",
        "    inp = torch.zeros(size, vocab_size).scatter_(1, tensor.unsqueeze(1), 1.)\n",
        "    return Variable(inp).float()"
      ]
    },
    {
      "cell_type": "code",
      "execution_count": 13,
      "metadata": {
        "id": "OU96q-dCQM94"
      },
      "outputs": [],
      "source": [
        "embedding_dims = 5\n",
        "device = torch.device('cpu')"
      ]
    },
    {
      "cell_type": "code",
      "execution_count": 14,
      "metadata": {
        "colab": {
          "base_uri": "https://localhost:8080/"
        },
        "id": "w4M_QQk3QS4J",
        "outputId": "00ab73e7-9870-497d-e4d9-2e452c720608"
      },
      "outputs": [
        {
          "name": "stdout",
          "output_type": "stream",
          "text": [
            "W1 shape is: torch.Size([20, 5]), W2 shape is: torch.Size([5, 20])\n"
          ]
        }
      ],
      "source": [
        "initrange = 0.5 / embedding_dims\n",
        "W1 = Variable(torch.randn(vocab_size, embedding_dims, device=device).uniform_(-initrange, initrange).float(), requires_grad=True) # shape V*H\n",
        "W2 = Variable(torch.randn(embedding_dims, vocab_size, device=device).uniform_(-initrange, initrange).float(), requires_grad=True) #shape H*V\n",
        "print(f'W1 shape is: {W1.shape}, W2 shape is: {W2.shape}')"
      ]
    },
    {
      "cell_type": "code",
      "execution_count": 15,
      "metadata": {
        "id": "_GNyeYkQQUZT"
      },
      "outputs": [],
      "source": [
        "num_epochs = 2000\n",
        "learning_rate = 2e-1\n",
        "lr_decay = 0.99\n",
        "loss_hist = []"
      ]
    },
    {
      "cell_type": "code",
      "execution_count": 16,
      "metadata": {
        "colab": {
          "base_uri": "https://localhost:8080/"
        },
        "id": "2uJPvghNQYE8",
        "outputId": "4de913d4-37e1-4aaf-e8da-287e856cd16d"
      },
      "outputs": [
        {
          "name": "stdout",
          "output_type": "stream",
          "text": [
            "Epoch 0, loss = 2.998577833175659\n",
            "Epoch 50, loss = 2.625443696975708\n",
            "Epoch 100, loss = 1.2810331583023071\n",
            "Epoch 150, loss = 1.00420343875885\n",
            "Epoch 200, loss = 0.9315587878227234\n",
            "Epoch 250, loss = 1.0328025817871094\n",
            "Epoch 300, loss = 1.0721040964126587\n",
            "Epoch 350, loss = 1.2301656007766724\n",
            "Epoch 400, loss = 1.2447561025619507\n",
            "Epoch 450, loss = 1.2228487730026245\n",
            "Epoch 500, loss = 1.144706130027771\n",
            "Epoch 550, loss = 1.2395423650741577\n",
            "Epoch 600, loss = 1.4986666440963745\n",
            "Epoch 650, loss = 1.2477688789367676\n",
            "Epoch 700, loss = 1.1501984596252441\n",
            "Epoch 750, loss = 1.1947921514511108\n",
            "Epoch 800, loss = 1.1049048900604248\n",
            "Epoch 850, loss = 1.2552181482315063\n",
            "Epoch 900, loss = 1.092986822128296\n",
            "Epoch 950, loss = 1.0289896726608276\n",
            "Epoch 1000, loss = 1.0243390798568726\n",
            "Epoch 1050, loss = 1.0161584615707397\n",
            "Epoch 1100, loss = 0.9857685565948486\n",
            "Epoch 1150, loss = 0.9596852660179138\n",
            "Epoch 1200, loss = 0.9410993456840515\n",
            "Epoch 1250, loss = 0.9263442158699036\n",
            "Epoch 1300, loss = 0.9202263951301575\n",
            "Epoch 1350, loss = 0.9180519580841064\n",
            "Epoch 1400, loss = 0.9171528220176697\n",
            "Epoch 1450, loss = 0.9159572124481201\n",
            "Epoch 1500, loss = 0.9145023226737976\n",
            "Epoch 1550, loss = 0.9128456115722656\n",
            "Epoch 1600, loss = 0.9110323786735535\n",
            "Epoch 1650, loss = 0.9090983867645264\n",
            "Epoch 1700, loss = 0.9070771336555481\n",
            "Epoch 1750, loss = 0.905017077922821\n",
            "Epoch 1800, loss = 0.903045117855072\n",
            "Epoch 1850, loss = 0.9017305970191956\n",
            "Epoch 1900, loss = 0.901597797870636\n",
            "Epoch 1950, loss = 0.9016239643096924\n",
            "Wall time: 9.23 s\n"
          ]
        }
      ],
      "source": [
        "%%time\n",
        "for epo in range(num_epochs):\n",
        "    for x,y in zip(DataLoader(train_emb.Input.values, batch_size=train_emb.shape[0]), DataLoader(train_emb.Output.values, batch_size=train_emb.shape[0])):\n",
        "        \n",
        "        # one-hot encode input tensor\n",
        "        input_tensor = get_input_tensor(x) #shape N*V\n",
        "     \n",
        "        # simple NN architecture\n",
        "        h = input_tensor.mm(W1) # shape 1*H\n",
        "        y_pred = h.mm(W2) # shape 1*V\n",
        "        \n",
        "        # define loss func\n",
        "        loss_f = torch.nn.CrossEntropyLoss() # see details: https://pytorch.org/docs/stable/nn.html\n",
        "        \n",
        "        #compute loss\n",
        "        loss = loss_f(y_pred, y)\n",
        "        \n",
        "        # bakpropagation step\n",
        "        loss.backward()\n",
        "        \n",
        "        # Update weights using gradient descent. For this step we just want to mutate\n",
        "        # the values of w1 and w2 in-place; we don't want to build up a computational\n",
        "        # graph for the update steps, so we use the torch.no_grad() context manager\n",
        "        # to prevent PyTorch from building a computational graph for the updates\n",
        "        with torch.no_grad():\n",
        "            # SGD optimization is implemented in PyTorch, but it's very easy to implement manually providing better understanding of process\n",
        "            W1 -= learning_rate*W1.grad.data\n",
        "            W2 -= learning_rate*W2.grad.data\n",
        "            # zero gradients for next step\n",
        "            W1.grad.data.zero_()\n",
        "            W1.grad.data.zero_()\n",
        "    if epo%10 == 0:\n",
        "        learning_rate *= lr_decay\n",
        "    loss_hist.append(loss)\n",
        "    if epo%50 == 0:\n",
        "        print(f'Epoch {epo}, loss = {loss}')"
      ]
    },
    {
      "cell_type": "code",
      "execution_count": 17,
      "metadata": {
        "id": "P6zOqwn1Qgcy"
      },
      "outputs": [],
      "source": [
        "W1 = W1.detach().numpy()\n",
        "W2 = W2.T.detach().numpy()"
      ]
    },
    {
      "cell_type": "code",
      "execution_count": 18,
      "metadata": {
        "colab": {
          "base_uri": "https://localhost:8080/",
          "height": 483
        },
        "id": "mPCWevHSQlpJ",
        "outputId": "2b2fe3fb-d550-456c-caa9-f54f331d1c0e"
      },
      "outputs": [
        {
          "data": {
            "image/png": "[encoded data removed]",
            "text/plain": [
              "<Figure size 720x576 with 1 Axes>"
            ]
          },
          "metadata": {
            "needs_background": "light"
          },
          "output_type": "display_data"
        }
      ],
      "source": [
        "svd = decomposition.TruncatedSVD(n_components=2)\n",
        "W1_dec = svd.fit_transform(W1)\n",
        "x = W1_dec[:,0]\n",
        "y = W1_dec[:,1]\n",
        "plot = sns.scatterplot(x, y)\n",
        "\n",
        "for i in range(0,W1_dec.shape[0]):\n",
        "     plot.text(x[i], y[i]+2e-2, list(vocabulary.keys())[i], horizontalalignment='center', size='small', color='black', weight='semibold');"
      ]
    },
    {
      "cell_type": "code",
      "execution_count": 19,
      "metadata": {
        "colab": {
          "base_uri": "https://localhost:8080/",
          "height": 483
        },
        "id": "aADoFf50QuPr",
        "outputId": "cd88fcf3-2b21-4403-badd-d0917bf26b36"
      },
      "outputs": [
        {
          "data": {
            "image/png": "[encoded data removed]",
            "text/plain": [
              "<Figure size 720x576 with 1 Axes>"
            ]
          },
          "metadata": {
            "needs_background": "light"
          },
          "output_type": "display_data"
        }
      ],
      "source": [
        "W2_dec = svd.fit_transform(W2)\n",
        "x1 = W2_dec[:,0]\n",
        "y1 = W2_dec[:,1]\n",
        "plot1 = sns.scatterplot(x1, y1)\n",
        "for i in range(0,W2_dec.shape[0]):\n",
        "     plot1.text(x1[i], y1[i]+1, list(vocabulary.keys())[i], horizontalalignment='center', size='small', color='black', weight='semibold');"
      ]
    }
  ],
  "metadata": {
    "colab": {
      "collapsed_sections": [],
      "name": "Skip_Gram implementation with PyTorch.ipynb",
      "provenance": []
    },
    "kernelspec": {
      "display_name": "Python 3",
      "name": "python3"
    },
    "language_info": {
      "codemirror_mode": {
        "name": "ipython",
        "version": 3
      },
      "file_extension": ".py",
      "mimetype": "text/x-python",
      "name": "python",
      "nbconvert_exporter": "python",
      "pygments_lexer": "ipython3",
      "version": "3.8.8"
    }
  },
  "nbformat": 4,
  "nbformat_minor": 0
}
