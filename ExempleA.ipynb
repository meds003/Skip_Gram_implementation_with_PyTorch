{
 "cells": [
  {
   "cell_type": "code",
   "execution_count": 1,
   "metadata": {},
   "outputs": [
    {
     "name": "stdout",
     "output_type": "stream",
     "text": [
      "['bien', 'condition', 'du', 'etre', 'important', 'solution']\n",
      "{'condition': 1, 'du': 2, 'bien': 0, 'etre': 3, 'important': 4, 'solution': 5}\n",
      "[[1 1 1 1 0 0]\n",
      " [0 0 0 1 1 0]\n",
      " [1 0 0 1 0 1]\n",
      " [1 0 0 1 1 0]]\n"
     ]
    }
   ],
   "source": [
    "import numpy as np\n",
    "from statistics import mean\n",
    "from sklearn.feature_extraction.text import CountVectorizer\n",
    " \n",
    "vectorizer = CountVectorizer()\n",
    "#\n",
    "# Create sample set of documents\n",
    "#\n",
    "docs = np.array(['condition du bien etre',\n",
    "                 'etre important',\n",
    "                 'solution bien etre',\n",
    "                 'important bien etre'])\n",
    "#\n",
    "# Fit the bag-of-words model\n",
    "#\n",
    "bag = vectorizer.fit_transform(docs)\n",
    "#\n",
    "# Get unique words / tokens found in all the documents. The unique words / tokens represents\n",
    "# the features\n",
    "#\n",
    "print(vectorizer.get_feature_names())\n",
    "#\n",
    "# Associate the indices with each unique word\n",
    "#\n",
    "print(vectorizer.vocabulary_)\n",
    "#\n",
    "# Print the numerical feature vector\n",
    "#\n",
    "print(bag.toarray())\n"
   ]
  },
  {
   "cell_type": "code",
   "execution_count": 1,
   "metadata": {},
   "outputs": [
    {
     "data": {
      "text/plain": [
       "<matplotlib.collections.PathCollection at 0x262dd22f4f0>"
      ]
     },
     "execution_count": 1,
     "metadata": {},
     "output_type": "execute_result"
    },
    {
     "data": {
      "image/png": "[encoded data removed]",
      "text/plain": [
       "<Figure size 432x288 with 1 Axes>"
      ]
     },
     "metadata": {
      "needs_background": "light"
     },
     "output_type": "display_data"
    }
   ],
   "source": [
    "from matplotlib import pyplot as plt\n",
    "from sklearn.datasets import make_blobs  # Only for Dataset creation\n",
    "\n",
    "X,y = make_blobs(n_samples = 1500, centers = 4, random_state=3)\n",
    "\n",
    "plt.figure(0)\n",
    "plt.grid(True)\n",
    "plt.scatter(X[:,0],X[:,1])"
   ]
  }
 ],
 "metadata": {
  "interpreter": {
   "hash": "a756b176bcd2ecb5e8ddd6784821a6db55b1309d958255fe67b4f03a3159dfb4"
  },
  "kernelspec": {
   "display_name": "Python 3.8.8 64-bit ('base': conda)",
   "language": "python",
   "name": "python3"
  },
  "language_info": {
   "codemirror_mode": {
    "name": "ipython",
    "version": 3
   },
   "file_extension": ".py",
   "mimetype": "text/x-python",
   "name": "python",
   "nbconvert_exporter": "python",
   "pygments_lexer": "ipython3",
   "version": "3.8.8"
  },
  "orig_nbformat": 4
 },
 "nbformat": 4,
 "nbformat_minor": 2
}
